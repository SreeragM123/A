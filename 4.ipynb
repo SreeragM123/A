{
  "nbformat": 4,
  "nbformat_minor": 0,
  "metadata": {
    "colab": {
      "provenance": []
    },
    "kernelspec": {
      "name": "python3",
      "display_name": "Python 3"
    },
    "language_info": {
      "name": "python"
    }
  },
  "cells": [
    {
      "cell_type": "code",
      "execution_count": 1,
      "metadata": {
        "colab": {
          "base_uri": "https://localhost:8080/"
        },
        "id": "5e0oBFhIsPjc",
        "outputId": "f43f36a8-ac0e-4bae-debd-046f1ebb1c63"
      },
      "outputs": [
        {
          "output_type": "stream",
          "name": "stdout",
          "text": [
            "{'1', '2', '6', '5', '7', '3'}\n",
            "length =  6\n",
            "7\n",
            "1\n"
          ]
        }
      ],
      "source": [
        "n={\"1\",\"2\",\"3\",\"5\",\"7\",\"6\"}\n",
        "print(n)\n",
        "print (\"length = \", len(n))\n",
        "print(max(n))\n",
        "print(min(n))"
      ]
    }
  ]
}