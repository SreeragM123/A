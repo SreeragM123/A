{
  "nbformat": 4,
  "nbformat_minor": 0,
  "metadata": {
    "colab": {
      "provenance": []
    },
    "kernelspec": {
      "name": "python3",
      "display_name": "Python 3"
    },
    "language_info": {
      "name": "python"
    }
  },
  "cells": [
    {
      "cell_type": "code",
      "execution_count": 2,
      "metadata": {
        "colab": {
          "base_uri": "https://localhost:8080/"
        },
        "id": "13ywCje3tZCV",
        "outputId": "7f765b13-a4a0-497a-effb-eda14b2b3b41"
      },
      "outputs": [
        {
          "output_type": "stream",
          "name": "stdout",
          "text": [
            "['green', 'yellow', 'black', 'white']\n",
            "green\n",
            "white\n",
            "['green', 'yellow', 'black', 'white', 'red']\n",
            "['green', 'yellow', 'black', 'white', 'orange', 'red']\n",
            "['green', 'yellow', 'black', 'white', 'orange', 'brown']\n"
          ]
        }
      ],
      "source": [
        "color = ['green', 'yellow', 'black', 'white']\n",
        "print(color)\n",
        "print(color[0])\n",
        "print(color[-1])\n",
        "color.append(\"red\")\n",
        "print(color)\n",
        "color.insert(4, \"orange\")\n",
        "print(color)\n",
        "color[5]=\"brown\"\n",
        "print(color)\n"
      ]
    }
  ]
}