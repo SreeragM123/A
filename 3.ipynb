{
  "nbformat": 4,
  "nbformat_minor": 0,
  "metadata": {
    "colab": {
      "provenance": []
    },
    "kernelspec": {
      "name": "python3",
      "display_name": "Python 3"
    },
    "language_info": {
      "name": "python"
    }
  },
  "cells": [
    {
      "cell_type": "code",
      "execution_count": 1,
      "metadata": {
        "colab": {
          "base_uri": "https://localhost:8080/"
        },
        "id": "YYETN80KruGC",
        "outputId": "504a971e-80c8-4ab4-a6d1-dd2d5f78fa61"
      },
      "outputs": [
        {
          "output_type": "stream",
          "name": "stdout",
          "text": [
            "Input the Filename: 1.ipynb\n",
            "The extension of the file is : 'ipynb'\n"
          ]
        }
      ],
      "source": [
        "f = input(\"Input the Filename: \")\n",
        "ext = f.split(\".\")\n",
        "print (\"The extension of the file is : \" + repr(ext[-1]))"
      ]
    }
  ]
}