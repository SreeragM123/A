{
  "nbformat": 4,
  "nbformat_minor": 0,
  "metadata": {
    "colab": {
      "provenance": []
    },
    "kernelspec": {
      "name": "python3",
      "display_name": "Python 3"
    },
    "language_info": {
      "name": "python"
    }
  },
  "cells": [
    {
      "cell_type": "code",
      "execution_count": 1,
      "metadata": {
        "colab": {
          "base_uri": "https://localhost:8080/"
        },
        "id": "jTi7wnUnrLBy",
        "outputId": "84dec837-4b6c-48e5-eb32-46d3ceaa287d"
      },
      "outputs": [
        {
          "output_type": "stream",
          "name": "stdout",
          "text": [
            "Enter a string : python\n",
            "nythop\n"
          ]
        }
      ],
      "source": [
        "str = input(\"Enter a string : \")\n",
        "str1 = str[-1:] + str[1:-1] + str[:1]\n",
        "print(str1)"
      ]
    }
  ]
}