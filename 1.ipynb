{
  "nbformat": 4,
  "nbformat_minor": 0,
  "metadata": {
    "colab": {
      "provenance": []
    },
    "kernelspec": {
      "name": "python3",
      "display_name": "Python 3"
    },
    "language_info": {
      "name": "python"
    }
  },
  "cells": [
    {
      "cell_type": "code",
      "execution_count": 1,
      "metadata": {
        "colab": {
          "base_uri": "https://localhost:8080/"
        },
        "id": "g2H0jX8soJgd",
        "outputId": "0fb07f1f-69c4-4a82-dece-ab6019645e1d"
      },
      "outputs": [
        {
          "output_type": "stream",
          "name": "stdout",
          "text": [
            "The original string is : onion\n",
            "Replaced String : oni$n\n"
          ]
        }
      ],
      "source": [
        "test = 'onion'\n",
        "print(\"The original string is : \" + str(test))\n",
        "o = '$'\n",
        "res = test.replace(test[0], o).replace(o, test[0], 1)\n",
        "print(\"Replaced String : \" + str(res))"
      ]
    }
  ]
}